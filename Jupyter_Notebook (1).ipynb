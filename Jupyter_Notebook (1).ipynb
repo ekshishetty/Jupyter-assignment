{
  "metadata": {
    "kernelspec": {
      "name": "python",
      "display_name": "Pyolite",
      "language": "python"
    },
    "language_info": {
      "codemirror_mode": {
        "name": "python",
        "version": 3
      },
      "file_extension": ".py",
      "mimetype": "text/x-python",
      "name": "python",
      "nbconvert_exporter": "python",
      "pygments_lexer": "ipython3",
      "version": "3.8"
    }
  },
  "nbformat_minor": 4,
  "nbformat": 4,
  "cells": [
    {
      "cell_type": "markdown",
      "source": "<center>\n    <img src=\"https://s3-api.us-geo.objectstorage.softlayer.net/cf-courses-data/CognitiveClass/Logos/organization_logo/organization_logo.png\" width=\"300\" alt=\"cognitiveclass.ai logo\"  />\n</center>\n",
      "metadata": {}
    },
    {
      "cell_type": "markdown",
      "source": "#### Add your code below following the instructions given in the course\n",
      "metadata": {}
    },
    {
      "cell_type": "markdown",
      "source": "<h1>My Jupyter Notebook on IBM Watson Studio</h1>\n",
      "metadata": {}
    },
    {
      "cell_type": "markdown",
      "source": "<b>Ekshita Shetty</b>",
      "metadata": {}
    },
    {
      "cell_type": "markdown",
      "source": "Data Analyst",
      "metadata": {}
    },
    {
      "cell_type": "markdown",
      "source": "*I am interested in data science because I love to work with data*",
      "metadata": {}
    },
    {
      "cell_type": "markdown",
      "source": "cell5 will Print a string \"Hello IBM\"",
      "metadata": {}
    },
    {
      "cell_type": "code",
      "source": "print(\"Hello IBM\")\n",
      "metadata": {
        "trusted": true
      },
      "execution_count": 3,
      "outputs": [
        {
          "name": "stdout",
          "text": "Hello IBM\n",
          "output_type": "stream"
        }
      ]
    },
    {
      "cell_type": "markdown",
      "source": "*This is a bullet italic list.\n1.This is a numbered list.\n<strike>\\n STRIKE </strike>",
      "metadata": {}
    },
    {
      "cell_type": "code",
      "source": "* This is a bullet list\n1",
      "metadata": {},
      "execution_count": null,
      "outputs": []
    }
  ]
}